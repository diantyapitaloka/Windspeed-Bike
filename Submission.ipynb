{
 "cells": [
  {
   "cell_type": "code",
   "execution_count": null,
   "metadata": {},
   "outputs": [],
   "source": [
    "## Proyek Analisis Data: Nama dataset\n",
    "- Nama: Diantya Pitaloka\n",
    "- Email: diantyantyaa@gmail.com\n",
    "- Id Dicoding: diantyap"
   ]
  },
  {
   "cell_type": "code",
   "execution_count": null,
   "metadata": {},
   "outputs": [],
   "source": [
    "## Menentukan Pertanyaan Bisnis\n",
    "- Hari apa yang paling banyak bekerja dalam satu musim?\n",
    "- Berapa kecepatan angin tertinggi sepanjang musim?"
   ]
  },
  {
   "cell_type": "code",
   "execution_count": null,
   "metadata": {},
   "outputs": [],
   "source": [
    "## Menyiapkan semua library yang dibutuhkan\n",
    "import pandas as pd\n",
    "import numpy as np\n",
    "import matplotlib.pyplot as plt\n",
    "import seaborn as sns\n",
    "import plotly.express as px"
   ]
  },
  {
   "cell_type": "code",
   "execution_count": null,
   "metadata": {},
   "outputs": [],
   "source": [
    "## Data Wrangling\n",
    "# Gathering Data\n",
    "import pandas as pd\n",
    "from google.colab import files\n",
    "import io"
   ]
  }
 ],
 "metadata": {
  "language_info": {
   "name": "python"
  }
 },
 "nbformat": 4,
 "nbformat_minor": 2
}
